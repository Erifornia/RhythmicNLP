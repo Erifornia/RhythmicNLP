{
  "nbformat": 4,
  "nbformat_minor": 0,
  "metadata": {
    "colab": {
      "name": "genius_scraping",
      "provenance": []
    },
    "kernelspec": {
      "name": "python3",
      "display_name": "Python 3"
    }
  },
  "cells": [
    {
      "cell_type": "code",
      "metadata": {
        "id": "_62nt-eWzqsV",
        "colab_type": "code",
        "outputId": "b06d15d9-14b0-4730-eea1-7baf8b1467dd",
        "colab": {
          "base_uri": "https://localhost:8080/",
          "height": 272
        }
      },
      "source": [
        "!pip install lyricsgenius"
      ],
      "execution_count": 0,
      "outputs": [
        {
          "output_type": "stream",
          "text": [
            "Collecting lyricsgenius\n",
            "  Downloading https://files.pythonhosted.org/packages/4a/47/5aba67735bf3b7f2b1f4c1e5d1f9892050847e27e7fafdec14fc72d41bc1/lyricsgenius-1.8.2-py3-none-any.whl\n",
            "Collecting beautifulsoup4==4.6.0\n",
            "\u001b[?25l  Downloading https://files.pythonhosted.org/packages/9e/d4/10f46e5cfac773e22707237bfcd51bbffeaf0a576b0a847ec7ab15bd7ace/beautifulsoup4-4.6.0-py3-none-any.whl (86kB)\n",
            "\r\u001b[K     |███▊                            | 10kB 23.4MB/s eta 0:00:01\r\u001b[K     |███████▌                        | 20kB 3.1MB/s eta 0:00:01\r\u001b[K     |███████████▎                    | 30kB 4.5MB/s eta 0:00:01\r\u001b[K     |███████████████                 | 40kB 5.8MB/s eta 0:00:01\r\u001b[K     |██████████████████▉             | 51kB 7.0MB/s eta 0:00:01\r\u001b[K     |██████████████████████▋         | 61kB 8.3MB/s eta 0:00:01\r\u001b[K     |██████████████████████████▍     | 71kB 9.4MB/s eta 0:00:01\r\u001b[K     |██████████████████████████████▏ | 81kB 5.9MB/s eta 0:00:01\r\u001b[K     |████████████████████████████████| 92kB 4.5MB/s \n",
            "\u001b[?25hRequirement already satisfied: requests>=2.20.0 in /usr/local/lib/python3.6/dist-packages (from lyricsgenius) (2.21.0)\n",
            "Requirement already satisfied: chardet<3.1.0,>=3.0.2 in /usr/local/lib/python3.6/dist-packages (from requests>=2.20.0->lyricsgenius) (3.0.4)\n",
            "Requirement already satisfied: certifi>=2017.4.17 in /usr/local/lib/python3.6/dist-packages (from requests>=2.20.0->lyricsgenius) (2019.11.28)\n",
            "Requirement already satisfied: urllib3<1.25,>=1.21.1 in /usr/local/lib/python3.6/dist-packages (from requests>=2.20.0->lyricsgenius) (1.24.3)\n",
            "Requirement already satisfied: idna<2.9,>=2.5 in /usr/local/lib/python3.6/dist-packages (from requests>=2.20.0->lyricsgenius) (2.8)\n",
            "Installing collected packages: beautifulsoup4, lyricsgenius\n",
            "  Found existing installation: beautifulsoup4 4.6.3\n",
            "    Uninstalling beautifulsoup4-4.6.3:\n",
            "      Successfully uninstalled beautifulsoup4-4.6.3\n",
            "Successfully installed beautifulsoup4-4.6.0 lyricsgenius-1.8.2\n"
          ],
          "name": "stdout"
        }
      ]
    },
    {
      "cell_type": "code",
      "metadata": {
        "id": "kkJvCBWDzwj-",
        "colab_type": "code",
        "outputId": "81d67a18-204c-465b-f2af-da58d09b685d",
        "colab": {
          "base_uri": "https://localhost:8080/",
          "height": 1000
        }
      },
      "source": [
        "import lyricsgenius\n",
        "from time import sleep\n",
        "genius = lyricsgenius.Genius(\"\")\n",
        "genius.remove_section_headers = True\n",
        "genius.excluded_terms = [\"Livret\",\"Remix\",\"Edit\",\"Pochette\",\"Intro\",\"Outro\",\"Freestyle\"]\n",
        "artists = [\"Booba\",\"Damso\",\"Guizmo\",\"Kaaris\",\"Lomepal\",\"Nepal\",\"Nekfeu\",\"Orelsan\",\"PNL\",\"SCH\",\"Vald\"]\n",
        "for art in artists:\n",
        "  artist = genius.search_artist(art, sort=\"title\")\n",
        "  artist.save_lyrics()\n",
        "  sleep(900)"
      ],
      "execution_count": 0,
      "outputs": [
        {
          "output_type": "stream",
          "text": [
            "Searching for songs by Booba...\n",
            "\n",
            "Song 1: \"03/02/15\"\n",
            "Song 2: \"0.9\"\n",
            "Song 3: \"100-8 Zoo\"\n",
            "Song 4: \"113\"\n",
            "Song 5: \"1.8.7\"\n",
            "Song 6: \"2.0\"\n",
            "Song 7: \"2Pac\"\n",
            "Song 8: \"3G\"\n",
            "Song 9: \"45 Scientific\"\n",
            "Song 10: \"4G\"\n",
            "Song 11: \"7 Vie Là\"\n",
            "Song 12: \"92i Veyron\"\n",
            "Song 13: \"92izi\"\n",
            "Song 14: \"A3\"\n",
            "Song 15: \"A4\"\n",
            "\"A4 - Remix\" is not valid. Skipping.\n",
            "Song 16: \"Abracadabra\"\n",
            "Song 17: \"A.C. Milan\"\n",
            "Song 18: \"À la folie\"\n",
            "Song 19: \"All Set\"\n",
            "Song 20: \"Alter égo\"\n",
            "Song 21: \"Animals\"\n",
            "Song 22: \"Arc-en-ciel\"\n",
            "Song 23: \"Attila\"\n",
            "Song 24: \"Au bout des rêves\"\n",
            "\"Au bout des rêves (Freestyle)\" is not valid. Skipping.\n",
            "Song 25: \"Au fond de la classe\"\n",
            "Song 26: \"Avant de partir\"\n",
            "\"Avant de partir (Edit)\" is not valid. Skipping.\n",
            "Song 27: \"B2OBA\"\n",
            "Song 28: \"Baby\"\n",
            "Song 29: \"Bad Boy Street\"\n",
            "Song 30: \"Bakel City Gang\"\n",
            "Song 31: \"Bâtiment C\"\n",
            "Song 32: \"Batiment C, part. II\"\n",
            "Song 33: \"BB\"\n",
            "Song 34: \"Bellucci\"\n",
            "Song 35: \"Billets verts\"\n",
            "Song 36: \"Billets violets\"\n",
            "\"B.O (Freestyle Radio)\" is not valid. Skipping.\n",
            "Song 37: \"Boîte vocale\"\n",
            "\"Boîte vocale (Freestyle)\" is not valid. Skipping.\n",
            "Song 38: \"Boss du Rap Game\"\n",
            "Song 39: \"Boulbi\"\n",
            "Song 40: \"Boulbi (CSA Mix)\"\n",
            "\"Boulbi (Freestyle Cut Killer Show)\" is not valid. Skipping.\n",
            "Song 41: \"Bouyon\"\n",
            "Song 42: \"Caesar Palace\"\n",
            "Song 43: \"Caracas\"\n",
            "Song 44: \"Caramel\"\n",
            "Song 45: \"Carton Rose\"\n",
            "Song 46: \"Cash Flow\"\n",
            "Song 47: \"Ça va aller\"\n",
            "Song 48: \"CAVALIERO\"\n",
            "Song 49: \"Centurion\"\n",
            "Song 50: \"C’est la même*\"\n",
            "Song 51: \"C’est la vie\"\n",
            "Song 52: \"Chacun sa manière\"\n",
            "Song 53: \"Charbon\"\n",
            "Song 54: \"Comme les autres\"\n",
            "Song 55: \"Comme une étoile\"\n",
            "\"Comme une étoile (Reggae Remix)\" is not valid. Skipping.\n",
            "Song 56: \"Commis d’office\"\n",
            "Song 57: \"Couleur ébène\"\n",
            "Song 58: \"Criminelle League\"\n",
            "Song 59: \"Daniel Sam\"\n",
            "\"Danse pour moi (Remix)\" is not valid. Skipping.\n",
            "Song 60: \"De mauvaise augure\"\n",
            "Song 61: \"Destinée\"\n",
            "Song 62: \"Diamond Girl\"\n",
            "Song 63: \"DKR\"\n",
            "Song 64: \"Double Poney\"\n",
            "Song 65: \"Drapeau noir\"\n",
            "Song 66: \"D.U.C\"\n",
            "Song 67: \"Écoute bien\"\n",
            "Song 68: \"E.L.E.P.H.A.N.T\"\n",
            "Song 69: \"Fast Life\"\n",
            "Song 70: \"#FélixEboué\"\n",
            "Song 71: \"Fœtus\"\n",
            "\"Freestyle\" is not valid. Skipping.\n",
            "\"Freestyle\" is not valid. Skipping.\n",
            "\"Freestyle (A2)\" is not valid. Skipping.\n",
            "\"Freestyle (Black Album)\" is not valid. Skipping.\n",
            "\"Freestyle Couvre Feu / OKLM\" is not valid. Skipping.\n",
            "\"Freestyle Mixtape/La lettre\" is not valid. Skipping.\n",
            "\"Freestyle Pirate\" is not valid. Skipping.\n",
            "\"Freestyle Radio 1\" is not valid. Skipping.\n",
            "\"Freestyle Radio 2\" is not valid. Skipping.\n",
            "\"Freestyle Radio 3\" is not valid. Skipping.\n",
            "\"Freestyle Radio 4\" is not valid. Skipping.\n",
            "\"Freestyle Radio 5\" is not valid. Skipping.\n",
            "\"Freestyle Radio (Février 97)\" is not valid. Skipping.\n",
            "Song 72: \"Friday\"\n",
            "Song 73: \"Fuck Around\"\n",
            "Song 74: \"Futur\"\n",
            "\"Futur 2.0 [Livret]\" is not valid. Skipping.\n",
            "\"G5 (Intro)\" is not valid. Skipping.\n",
            "Song 75: \"Game Over\"\n",
            "Song 76: \"Gangster\"\n",
            "Song 77: \"Garcimore\"\n",
            "Song 78: \"Garde la pêche\"\n",
            "Song 79: \"Génération Assassin\"\n",
            "Song 80: \"GLAIVE\"\n",
            "Song 81: \"G-Love\"\n",
            "Song 82: \"Gotham\"\n",
            "Song 83: \"Gun in Hand\"\n",
            "Song 84: \"Habibi\"\n",
            "\"Hands up high (Remix)\" is not valid. Skipping.\n",
            "\"Hello Good Morning (French Remix)\" is not valid. Skipping.\n",
            "\"Here (Remix)\" is not valid. Skipping.\n",
            "Song 85: \"Hors-saison\"\n",
            "\"Hustlin’ (French Remix)\" is not valid. Skipping.\n",
            "Song 86: \"Illégal\"\n",
            "Song 87: \"Indépendants\"\n",
            "Song 88: \"Inédit (2006)\"\n",
            "Song 89: \"Inédit (Temps mort)\"\n",
            "Song 90: \"Inédit Unique\"\n",
            "Song 91: \"Interlude (Temps mort)\"\n",
            "\"Interview Metronews - Futur 2.0\" is not valid. Skipping.\n",
            "\"Intro (0.9)\" is not valid. Skipping.\n",
            "\"Intro (A2)\" is not valid. Skipping.\n",
            "\"Intro (Black Album)\" is not valid. Skipping.\n",
            "\"Intro - CD1 (A1)\" is not valid. Skipping.\n",
            "\"Intro - CD2 (A1)\" is not valid. Skipping.\n",
            "\"Intro (Cut Killer Show)\" is not valid. Skipping.\n",
            "\"Intro (Mauvais œil)\" is not valid. Skipping.\n",
            "\"Intro (Mix-Tape Evolution)\" is not valid. Skipping.\n",
            "\"Intro (Patrimoine du Ghetto)\" is not valid. Skipping.\n",
            "Song 92: \"Izi Life\"\n",
            "Song 93: \"Izi Monnaie\"\n",
            "Song 94: \"Jack Da\"\n",
            "Song 95: \"JDC\"\n",
            "Song 96: \"Je me souviens\"\n",
            "\"Je me souviens (Freestyle)\" is not valid. Skipping.\n",
            "\"Je perds mon temps/Freestyle Quai 54\" is not valid. Skipping.\n",
            "\"Je sais (Freestyle Rihanna)\" is not valid. Skipping.\n",
            "Song 97: \"Jimmy\"\n",
            "Song 98: \"Jimmy deux fois\"\n",
            "Song 99: \"Jour de paye\"\n",
            "Song 100: \"Jusqu’ici tout va bien\"\n",
            "\"Jusqu’ici tout va bien (Remix)\" is not valid. Skipping.\n",
            "Song 101: \"Kalash\"\n",
            "\"Kalash (Twinsmatic Edit)\" is not valid. Skipping.\n",
            "Song 102: \"Killer\"\n",
            "Song 103: \"King\"\n",
            "Song 104: \"Kojak\"\n",
            "Song 105: \"La Faucheuse\"\n",
            "\"La Faucheuse (Remix)\" is not valid. Skipping.\n",
            "Song 106: \"La mort leur va si bien\"\n",
            "\"La mort leur va si bien (Twinsmatic Remix)\" is not valid. Skipping.\n",
            "Song 107: \"La vie en rouge\"\n",
            "Song 108: \"Le bitume avec une plume\"\n"
          ],
          "name": "stdout"
        }
      ]
    },
    {
      "cell_type": "code",
      "metadata": {
        "id": "qbd4ZYcc0zqf",
        "colab_type": "code",
        "colab": {}
      },
      "source": [
        "import pandas as pd\n",
        "import json\n",
        "\n",
        "def prepro(datalist,fnames):\n",
        "  datalist = list(datalist)\n",
        "  fnames = list(fnames)\n",
        "  for item,fname in zip(datalist,fnames):\n",
        "    with open(item) as f:\n",
        "      data = json.load(f)\n",
        "\n",
        "    artist_dict = {}\n",
        "    \n",
        "    def collectSongData(adic):\n",
        "      dps = list()\n",
        "      title = adic['title'] #song title\n",
        "      lyrics = adic['lyrics'] #song lyrics\n",
        "      dps.append((title,lyrics)) #append all to one tuple list\n",
        "      artist_dict[title] = dps #assign list to song dictionary entry named after song title\n",
        "\n",
        "    for i in range(len(data['songs'])):\n",
        "      collectSongData(data['songs'][i])\n",
        "    lyrics = pd.DataFrame.from_dict(artist_dict, orient=\"index\").reset_index()\n",
        "    lyrics.columns = [\"title\",\"lyrics\"]\n",
        "    for i in range(len(lyrics.lyrics)):\n",
        "      lyrics.lyrics[i]=lyrics.lyrics[i][1:]\n",
        "    lyrics.lyrics = lyrics.lyrics.apply(lambda x: ''.join(str(x)))\n",
        "    lyrics_clean = lyrics.lyrics.str.split(\"\\n\\n\", expand=True)\n",
        "\n",
        "    mypunct = str('!\"#$%&\\'()*+,-./;<=>?@\\\\^’“_`{|}~')\n",
        "\n",
        "    for col in lyrics_clean.columns:\n",
        "      lyrics_clean[col] = lyrics_clean[col].str.replace(\"[{}]\".format(mypunct),\" \")\n",
        "      lyrics_clean[col] = lyrics_clean[col] + \"\\n\"\n",
        "      lyrics_clean[col] = lyrics_clean[col].str.lower()\n",
        "\n",
        "    lyrics_clean.fillna('', inplace=True)\n",
        "    lyrics[\"lyrics_clean\"]=\"\"\n",
        "\n",
        "    for index, row in lyrics_clean.iterrows():\n",
        "      lyrics[\"lyrics_clean\"][index] = \" \".join(row)\n",
        "\n",
        "    lyrics.to_csv(\"{}\".format(fname))\n",
        "\n",
        "datalist = [\"Lyrics_Booba.json\",\"Lyrics_Damso.json\",\"Lyrics_Guizmo.json\",\"Lyrics_Kaaris.json\",\"Lyrics_Lomepal.json\",\n",
        "            \"Lyrics_Nekfeu.json\",\"Lyrics_Népal.json\",\"Lyrics_OrelSan.json\",\"Lyrics_PNL.json\",\"Lyrics_SCH.json\",\"Lyrics_Vald.json\"]\n",
        "fnames = [\"booba.csv\",\"damso.csv\",\"guizmo.csv\",\"kaaris.csv\",\"lomepal.csv\",\"nekfeu.csv\",\"nepal.csv\",\"orelsan.csv\",\"pnl.csv\",\"sch.csv\",\"vald.csv\"]\n",
        "prepro(datalist,fnames)"
      ],
      "execution_count": 0,
      "outputs": []
    },
    {
      "cell_type": "code",
      "metadata": {
        "id": "kdDFOh2Ch1Sg",
        "colab_type": "code",
        "colab": {}
      },
      "source": [
        ""
      ],
      "execution_count": 0,
      "outputs": []
    },
    {
      "cell_type": "code",
      "metadata": {
        "id": "0BjuZ3Ugh1XR",
        "colab_type": "code",
        "colab": {}
      },
      "source": [
        ""
      ],
      "execution_count": 0,
      "outputs": []
    },
    {
      "cell_type": "code",
      "metadata": {
        "id": "NvY03qaqh1ap",
        "colab_type": "code",
        "colab": {}
      },
      "source": [
        ""
      ],
      "execution_count": 0,
      "outputs": []
    },
    {
      "cell_type": "code",
      "metadata": {
        "id": "eXzyQTL-h1gG",
        "colab_type": "code",
        "colab": {}
      },
      "source": [
        ""
      ],
      "execution_count": 0,
      "outputs": []
    },
    {
      "cell_type": "code",
      "metadata": {
        "id": "pE3k-9nDxlAf",
        "colab_type": "code",
        "colab": {}
      },
      "source": [
        ""
      ],
      "execution_count": 0,
      "outputs": []
    }
  ]
}
